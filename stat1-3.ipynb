{
 "cells": [
  {
   "cell_type": "code",
   "execution_count": 1,
   "metadata": {},
   "outputs": [],
   "source": [
    "#  1 .A university wants to understand the relationship between the SAT scores of its\n",
    "# applicants and their college GPA. They collect data on 500 students, including their SAT\n",
    "# scores (out of 1600) and their college GPA (on a 4.0 scale). They find that the correlation\n",
    "# coefficient between SAT scores and college GPA is 0.7. What does this correlation\n",
    "# coefficient indicate about the relationship between SAT scores and college GPA?"
   ]
  },
  {
   "cell_type": "code",
   "execution_count": 2,
   "metadata": {},
   "outputs": [],
   "source": [
    "# ans : The correlation coefficient of 0.7 indicates a strong positive relationship between SAT scores and college GPA.\n",
    "# This means that as SAT scores increase, there is a tendency for college GPAs to also increase. \n",
    "# The magnitude of the correlation coefficient, which is close to 1, suggests a relatively tight and consistent relationship\n",
    "# between the two variables. However, it's important to note that correlation does not imply causation, and other factors may \n",
    "# influence college GPAs. Nonetheless,the high correlation coefficient indicates that SAT scores can be a good predictor or \n",
    "# indicator of a student's college GPA."
   ]
  },
  {
   "cell_type": "code",
   "execution_count": 3,
   "metadata": {},
   "outputs": [],
   "source": [
    "# Q-2. Consider a dataset containing the heights (in centimeters) of 1000 individuals. The\n",
    "# mean height is 170 cm with a standard deviation of 10 cm. The dataset is approximately\n",
    "# normally distributed, and its skewness is approximately zero. Based on this information,\n",
    "# answer the following questions:\n",
    "# a. What percentage of individuals in the dataset have heights between 160 cm\n",
    "# and 180 cm?\n",
    "# b. If we randomly select 100 individuals from the dataset, what is the probability\n",
    "# that their average height is greater than 175 cm?\n",
    "# c. Assuming the dataset follows a normal distribution, what is the z-score\n",
    "# corresponding to a height of 185 cm?\n",
    "# d. We know that 5% of the dataset has heights below a certain value. What is\n",
    "# the approximate height corresponding to this threshold?\n",
    "# e. Calculate the coefficient of variation (CV) for the dataset.\n",
    "# f. Calculate the skewness of the dataset and interpret the result."
   ]
  },
  {
   "cell_type": "code",
   "execution_count": 4,
   "metadata": {},
   "outputs": [],
   "source": [
    "# a.\n",
    "# To calculate the percentage of individuals in the dataset with heights between 160 cm and 180 cm, we need to calculate the\n",
    "# z-scores for these heights and then find the corresponding areas under the normal distribution curve.\n",
    "\n",
    "# The z-score for 160 cm is calculated as follows:\n",
    "# z = (160 - 170) / 10 = -1\n",
    "\n",
    "# The z-score for 180 cm is calculated as follows:\n",
    "# z = (180 - 170) / 10 = 1\n",
    "\n",
    "# Using a standard normal distribution table or a calculator, we can find the area between these two z-scores. \n",
    "# The area between -1 and 1 represents the percentage of individuals with heights between 160 cm and 180 cm.\n",
    "\n",
    "# From the standard normal distribution table, we find that the area to the left of a z-score of -1 is approximately 0.1587, \n",
    "# and the area to the left of a z-score of 1 is approximately 0.8413.\n",
    "\n",
    "# To find the area between -1 and 1\n",
    "\n",
    "# 0.8413 - 0.1587 = 0.6826\n",
    "\n",
    "# Therefore, approximately 68.26% of individuals in the dataset have heights between 160 cm and 180 cm."
   ]
  },
  {
   "cell_type": "code",
   "execution_count": 5,
   "metadata": {},
   "outputs": [],
   "source": [
    "# b.\n",
    "# we have a dataset of heights with a mean of 170 cm and a standard deviation of 10 cm. Since the dataset is \n",
    "# approximately normally distributed and the sample size is large (n = 100), we can assume that the sample mean will also be\n",
    "# normally distributed.\n",
    "\n",
    "# The mean of the sampling distribution of the sample mean is the same as the population mean, which is 170 cm. The standard \n",
    "# deviation of the sampling distribution, also known as the standard error, is given by the population standard deviation divided\n",
    "# by the square root of the sample size. In this case, it is 10 cm / √100 = 1 cm.\n",
    "\n",
    "# To find the probability that the average height of 100 randomly selected individuals is greater than 175 cm, we need to \n",
    "# calculate the z-score corresponding to a height of 175 cm using the formula:\n",
    "\n",
    "# z = (x - μ) / σ\n",
    "\n",
    "# where x is the height, μ is the mean, and σ is the standard deviation.\n",
    "\n",
    "# Plugging in the values, we get:\n",
    "\n",
    "# z = (175 - 170) / 1 = 5\n",
    "\n",
    "# Using a standard normal distribution table or a calculator, we can find the area to the right of a z-score of 5. This area\n",
    "# represents the probability that the average height of 100 randomly selected individuals is greater than 175 cm. However, \n",
    "# the probability of a value being greater than 5 standard deviations away from the mean is extremely small and approaches zero.\n",
    "\n",
    "# we can consider this probability to be effectively zero, as it falls far outside the range of what is expected \n",
    "# in a normal distribution."
   ]
  },
  {
   "cell_type": "code",
   "execution_count": 6,
   "metadata": {},
   "outputs": [],
   "source": [
    "# c. Assuming the dataset follows a normal distribution, what is the z-score\n",
    "# corresponding to a height of 185 cm?\n",
    "# ans :we can use the formula:\n",
    "\n",
    "# z = (x - μ) / σ\n",
    "\n",
    "# where x is the height, μ is the mean, and σ is the standard deviation. In this case, the mean is 170 cm and the\n",
    "# standard deviation is 10 cm.\n",
    "\n",
    "# z = (185 - 170) / 10 = 1.5"
   ]
  },
  {
   "cell_type": "code",
   "execution_count": 7,
   "metadata": {},
   "outputs": [],
   "source": [
    "# d. We know that 5% of the dataset has heights below a certain value. What is\n",
    "# the approximate height corresponding to this threshold?\n",
    "# ans :To find the approximate height corresponding to a threshold where 5% of the dataset has heights below that value,\n",
    "# we can use the z-score associated with the cumulative probability of 5% (0.05).\n",
    "\n",
    "# From a standard normal distribution table or using a calculator, the z-score corresponding to a cumulative probability of\n",
    "# 0.05 is approximately -1.645.\n",
    "\n",
    "# Using the formula for z-score:\n",
    "# x = z * σ + μ\n",
    "# x = -1.645 * 10 + 170 = 153.55\n",
    "\n",
    "# Therefore, the approximate height corresponding to the threshold where 5% of the dataset has heights below that value is \n",
    "# around 153.55 cm."
   ]
  },
  {
   "cell_type": "code",
   "execution_count": 8,
   "metadata": {},
   "outputs": [],
   "source": [
    "# e. Calculate the coefficient of variation (CV) for the dataset.\n",
    "# ans:standard deviation is 10 cm and the mean is 170 cm.\n",
    "\n",
    "# CV = (σ / μ) * 100\n",
    "# CV = (10 / 170) * 100 ≈ 5.88\n",
    "\n",
    "# Therefore, the coefficient of variation for the dataset is approximately 5.88%."
   ]
  },
  {
   "cell_type": "code",
   "execution_count": 9,
   "metadata": {},
   "outputs": [],
   "source": [
    "# f. Calculate the skewness of the dataset and interpret the result.\n",
    "# ans :Since it is mentioned that the skewness of the dataset is approximately zero, it indicates that the dataset is \n",
    "# symmetrical. Skewness is a measure of the asymmetry of a distribution. A skewness of zero suggests that the dataset is \n",
    "# symmetrically distributed, with equal probabilities of observations being above or below the mean."
   ]
  },
  {
   "cell_type": "code",
   "execution_count": 10,
   "metadata": {},
   "outputs": [],
   "source": [
    "# Q-3. Consider the ‘Blood Pressure Before’ and ‘Blood Pressure After’ columns from the\n",
    "# data and calculate the following\n",
    "\n",
    "# https://drive.google.com/file/d/1mCjtYHiX--mMUjicuaP2gH3k-SnFxt8Y/view?usp=share_\n",
    "# a. Measure the dispersion in both and interpret the results.\n",
    "# b. Calculate mean and 5% confidence interval and plot it in a graph\n",
    "# c. Calculate the Mean absolute deviation and Standard deviation and interpret\n",
    "# the results.\n",
    "# d. Calculate the correlation coefficient and check the significance of it at 1% level\n",
    "# of significance."
   ]
  },
  {
   "cell_type": "code",
   "execution_count": 18,
   "metadata": {},
   "outputs": [
    {
     "data": {
      "text/html": [
       "<div>\n",
       "<style scoped>\n",
       "    .dataframe tbody tr th:only-of-type {\n",
       "        vertical-align: middle;\n",
       "    }\n",
       "\n",
       "    .dataframe tbody tr th {\n",
       "        vertical-align: top;\n",
       "    }\n",
       "\n",
       "    .dataframe thead th {\n",
       "        text-align: right;\n",
       "    }\n",
       "</style>\n",
       "<table border=\"1\" class=\"dataframe\">\n",
       "  <thead>\n",
       "    <tr style=\"text-align: right;\">\n",
       "      <th></th>\n",
       "      <th>Patient ID</th>\n",
       "      <th>Blood Pressure Before (mmHg)</th>\n",
       "      <th>Blood Pressure After (mmHg)</th>\n",
       "    </tr>\n",
       "  </thead>\n",
       "  <tbody>\n",
       "    <tr>\n",
       "      <th>0</th>\n",
       "      <td>1</td>\n",
       "      <td>130</td>\n",
       "      <td>120</td>\n",
       "    </tr>\n",
       "    <tr>\n",
       "      <th>1</th>\n",
       "      <td>2</td>\n",
       "      <td>142</td>\n",
       "      <td>135</td>\n",
       "    </tr>\n",
       "    <tr>\n",
       "      <th>2</th>\n",
       "      <td>3</td>\n",
       "      <td>120</td>\n",
       "      <td>118</td>\n",
       "    </tr>\n",
       "    <tr>\n",
       "      <th>3</th>\n",
       "      <td>4</td>\n",
       "      <td>135</td>\n",
       "      <td>127</td>\n",
       "    </tr>\n",
       "    <tr>\n",
       "      <th>4</th>\n",
       "      <td>5</td>\n",
       "      <td>148</td>\n",
       "      <td>140</td>\n",
       "    </tr>\n",
       "    <tr>\n",
       "      <th>...</th>\n",
       "      <td>...</td>\n",
       "      <td>...</td>\n",
       "      <td>...</td>\n",
       "    </tr>\n",
       "    <tr>\n",
       "      <th>95</th>\n",
       "      <td>96</td>\n",
       "      <td>136</td>\n",
       "      <td>129</td>\n",
       "    </tr>\n",
       "    <tr>\n",
       "      <th>96</th>\n",
       "      <td>97</td>\n",
       "      <td>143</td>\n",
       "      <td>137</td>\n",
       "    </tr>\n",
       "    <tr>\n",
       "      <th>97</th>\n",
       "      <td>98</td>\n",
       "      <td>127</td>\n",
       "      <td>123</td>\n",
       "    </tr>\n",
       "    <tr>\n",
       "      <th>98</th>\n",
       "      <td>99</td>\n",
       "      <td>139</td>\n",
       "      <td>135</td>\n",
       "    </tr>\n",
       "    <tr>\n",
       "      <th>99</th>\n",
       "      <td>100</td>\n",
       "      <td>135</td>\n",
       "      <td>130</td>\n",
       "    </tr>\n",
       "  </tbody>\n",
       "</table>\n",
       "<p>100 rows × 3 columns</p>\n",
       "</div>"
      ],
      "text/plain": [
       "    Patient ID   Blood Pressure Before (mmHg)   Blood Pressure After (mmHg)\n",
       "0            1                            130                           120\n",
       "1            2                            142                           135\n",
       "2            3                            120                           118\n",
       "3            4                            135                           127\n",
       "4            5                            148                           140\n",
       "..         ...                            ...                           ...\n",
       "95          96                            136                           129\n",
       "96          97                            143                           137\n",
       "97          98                            127                           123\n",
       "98          99                            139                           135\n",
       "99         100                            135                           130\n",
       "\n",
       "[100 rows x 3 columns]"
      ]
     },
     "execution_count": 18,
     "metadata": {},
     "output_type": "execute_result"
    }
   ],
   "source": [
    "import pandas as pd\n",
    "df=pd.read_csv(r\"E:\\software_study\\ineuron\\assignment repo\\ineuron_assignment\\data.csv\")\n",
    "df"
   ]
  },
  {
   "cell_type": "code",
   "execution_count": 31,
   "metadata": {},
   "outputs": [
    {
     "name": "stdout",
     "output_type": "stream",
     "text": [
      "Range for 'Blood Pressure Before': 28\n",
      "Range for 'Blood Pressure After': 23\n"
     ]
    }
   ],
   "source": [
    "range_before = df[' Blood Pressure Before (mmHg)'].max() - df[' Blood Pressure Before (mmHg)'].min()\n",
    "range_after = df[' Blood Pressure After (mmHg)'].max() - df[' Blood Pressure After (mmHg)'].min()\n",
    "\n",
    "print(\"Range for 'Blood Pressure Before':\", range_before)\n",
    "print(\"Range for 'Blood Pressure After':\", range_after)"
   ]
  },
  {
   "cell_type": "code",
   "execution_count": 34,
   "metadata": {},
   "outputs": [
    {
     "data": {
      "image/png": "[encoded data removed]",
      "text/plain": [
       "<Figure size 432x288 with 1 Axes>"
      ]
     },
     "metadata": {
      "needs_background": "light"
     },
     "output_type": "display_data"
    }
   ],
   "source": [
    "# b. Calculate mean and 5% confidence interval and plot it in a graph\n",
    "import matplotlib.pyplot as plt\n",
    "mean_before = df[' Blood Pressure Before (mmHg)'].mean()\n",
    "\n",
    "mean_after = df[' Blood Pressure After (mmHg)'].mean()\n",
    "\n",
    "# Calculate the standard error for 'Blood Pressure Before' column\n",
    "se_before = df[' Blood Pressure Before (mmHg)'].sem()\n",
    "\n",
    "# Calculate the standard error for 'Blood Pressure After' column\n",
    "se_after = df[' Blood Pressure After (mmHg)'].sem()\n",
    "\n",
    "# Calculate the margin of error for a 5% confidence level\n",
    "margin_of_error = 1.96 * max(se_before, se_after)  # Assuming normal distribution\n",
    "\n",
    "# Calculate the confidence interval for 'Blood Pressure Before' column\n",
    "conf_interval_before = (mean_before - margin_of_error, mean_before + margin_of_error)\n",
    "\n",
    "# Calculate the confidence interval for 'Blood Pressure After' column\n",
    "conf_interval_after = (mean_after - margin_of_error, mean_after + margin_of_error)\n",
    "\n",
    "plt.errorbar(['Before', 'After'], [mean_before, mean_after], yerr=margin_of_error, fmt='o')\n",
    "plt.ylabel('Blood Pressure (mmHg)')\n",
    "plt.title('Mean and 95% Confidence Interval')\n",
    "plt.show()"
   ]
  },
  {
   "cell_type": "markdown",
   "metadata": {},
   "source": [
    "<!-- Calculate the Mean absolute deviation and Standard deviation and interpret\n",
    "# the results -->\n"
   ]
  },
  {
   "cell_type": "code",
   "execution_count": 38,
   "metadata": {},
   "outputs": [
    {
     "name": "stdout",
     "output_type": "stream",
     "text": [
      "Mean Absolute Deviation for 'Blood Pressure Before' column: 5.7118\n",
      "Mean Absolute Deviation for 'Blood Pressure After' column: 5.9\n",
      "Standard Deviation for 'Blood Pressure Before' column: 6.598278012275075\n",
      "Standard Deviation for 'Blood Pressure After' column: 6.8880221025232276\n"
     ]
    }
   ],
   "source": [
    "# c)Calculate the Mean absolute deviation and Standard deviation and interpret\n",
    "# the results\n",
    "\n",
    "mad_before = df[' Blood Pressure Before (mmHg)'].mad()\n",
    "mad_after = df[' Blood Pressure After (mmHg)'].mad()\n",
    "\n",
    "sd_before = df[' Blood Pressure Before (mmHg)'].std()\n",
    "sd_after = df[' Blood Pressure After (mmHg)'].std()\n",
    "\n",
    "print(\"Mean Absolute Deviation for 'Blood Pressure Before' column:\", mad_before)\n",
    "print(\"Mean Absolute Deviation for 'Blood Pressure After' column:\", mad_after)\n",
    "print(\"Standard Deviation for 'Blood Pressure Before' column:\", sd_before)\n",
    "print(\"Standard Deviation for 'Blood Pressure After' column:\", sd_after)"
   ]
  },
  {
   "cell_type": "code",
   "execution_count": 39,
   "metadata": {},
   "outputs": [],
   "source": [
    "# d. Calculate the correlation coefficient and check the significance of it at 1% level\n",
    "# of significance."
   ]
  },
  {
   "cell_type": "code",
   "execution_count": null,
   "metadata": {},
   "outputs": [],
   "source": []
  }
 ],
 "metadata": {
  "kernelspec": {
   "display_name": "Python 3",
   "language": "python",
   "name": "python3"
  },
  "language_info": {
   "codemirror_mode": {
    "name": "ipython",
    "version": 3
   },
   "file_extension": ".py",
   "mimetype": "text/x-python",
   "name": "python",
   "nbconvert_exporter": "python",
   "pygments_lexer": "ipython3",
   "version": "3.8.5"
  }
 },
 "nbformat": 4,
 "nbformat_minor": 4
}
