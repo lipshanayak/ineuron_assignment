{
 "cells": [
  {
   "cell_type": "code",
   "execution_count": 38,
   "id": "26e9160a-3f00-4ce9-90bd-ab5df3624b77",
   "metadata": {},
   "outputs": [
    {
     "name": "stdout",
     "output_type": "stream",
     "text": [
      "Data has been downloaded, processed, and saved as 'pokemon_data.xlsx'.\n"
     ]
    }
   ],
   "source": [
    "import requests\n",
    "import pandas as pd\n",
    "\n",
    "def download_data(url):\n",
    "    response = requests.get(url)  # Send a GET request to the provided URL\n",
    "    data = response.json()  # Parse the response content as JSON\n",
    "    return data\n",
    "\n",
    "def process_data(data):\n",
    "    structured_data = []\n",
    "    for pokemon in data[\"pokemon\"]:\n",
    "        structured_pokemon = {\n",
    "            \"ID\": pokemon[\"id\"],\n",
    "            \"Number\": pokemon[\"num\"],\n",
    "            \"Name\": pokemon[\"name\"],\n",
    "            \"Image\": pokemon[\"img\"],\n",
    "            \"Type\": \", \".join(pokemon[\"type\"]),\n",
    "            \"Height\": pokemon[\"height\"],\n",
    "            \"Weight\": pokemon[\"weight\"],\n",
    "            \"Candy\": pokemon.get(\"candy\", \"\"),\n",
    "            \"Candy Count\": pokemon.get(\"candy_count\", 0),\n",
    "            \"Egg\": pokemon.get(\"egg\", \"\"),\n",
    "            \"Spawn Chance\": pokemon.get(\"spawn_chance\", 0),\n",
    "            \"Avg Spawns\": pokemon.get(\"avg_spawns\", 0),\n",
    "            \"Spawn Time\": pokemon.get(\"spawn_time\", \"\"),\n",
    "            # \"Multipliers\": \", \".join(map(str, pokemon.get(\"multipliers\", []))),\n",
    "            \"Weaknesses\": \", \".join(pokemon.get(\"weaknesses\", [])),\n",
    "            \"Next Evolution\": \", \".join([evo[\"name\"] for evo in pokemon.get(\"next_evolution\", [])]),\n",
    "            \"Previous Evolution\": \", \".join([evo[\"name\"] for evo in pokemon.get(\"prev_evolution\", [])])\n",
    "        }\n",
    "        structured_data.append(structured_pokemon)\n",
    "    return structured_data\n",
    "\n",
    "def convert_to_excel(data, output_filename):\n",
    "    df = pd.DataFrame(data)  # Create a DataFrame from the structured data\n",
    "    df.to_excel(output_filename, index=False)  # Save the DataFrame as an Excel file\n",
    "\n",
    "# Define the URL of the data to download\n",
    "url = \"https://raw.githubusercontent.com/Biuni/PokemonGO-Pokedex/master/pokedex.json\"\n",
    "\n",
    "# Download the data\n",
    "downloaded_data = download_data(url)\n",
    "\n",
    "# Process the data and extract relevant information\n",
    "structured_data = process_data(downloaded_data)\n",
    "\n",
    "# Convert the structured data to Excel format\n",
    "output_filename = \"pokemon_data.xlsx\"\n",
    "convert_to_excel(structured_data, output_filename)\n",
    "\n",
    "print(f\"Data has been downloaded, processed, and saved as '{output_filename}'.\")\n"
   ]
  },
  {
   "cell_type": "code",
   "execution_count": null,
   "id": "49b69bbe-b52b-427b-a37b-bc6933d1b42c",
   "metadata": {},
   "outputs": [],
   "source": []
  }
 ],
 "metadata": {
  "kernelspec": {
   "display_name": "Python 3 (ipykernel)",
   "language": "python",
   "name": "python3"
  },
  "language_info": {
   "codemirror_mode": {
    "name": "ipython",
    "version": 3
   },
   "file_extension": ".py",
   "mimetype": "text/x-python",
   "name": "python",
   "nbconvert_exporter": "python",
   "pygments_lexer": "ipython3",
   "version": "3.10.6"
  }
 },
 "nbformat": 4,
 "nbformat_minor": 5
}
