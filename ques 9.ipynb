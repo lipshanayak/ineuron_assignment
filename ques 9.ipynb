{
 "cells": [
  {
   "cell_type": "code",
   "execution_count": null,
   "metadata": {},
   "outputs": [],
   "source": [
    "import pandas as pd\n",
    "import matplotlib.pyplot as plt\n",
    "\n",
    "url = 'https://data.wa.gov/api/views/f6w7-q2d2/rows.csv?accessType=DOWNLOAD'\n",
    "df = pd.read_csv(url)\n",
    "\n",
    "# Get all the cars and their types that do not qualify for clean alternative fuel vehicle\n",
    "non_clean_cars = df[df['Clean Alternative Fuel Vehicle (CAFV) Eligibility'] == 'No']\n",
    "non_clean_cars_info = non_clean_cars[['Model', 'Electric Vehicle Type']]\n",
    "print(\"Cars and their types that do not qualify for clean alternative fuel vehicle:\")\n",
    "print(non_clean_cars_info)\n",
    "\n",
    "\n"
   ]
  },
  {
   "cell_type": "code",
   "execution_count": null,
   "metadata": {},
   "outputs": [],
   "source": [
    "# Get all TESLA cars with the model year, and model type made in Bothell City\n",
    "tesla_cars = df[(df['Make'] == 'TESLA') & (df['City'] == 'Bothell')]\n",
    "tesla_cars_info = tesla_cars[['Model Year', 'Model']]\n",
    "print(\"\\nTESLA cars with the model year, and model type made in Bothell City:\")\n",
    "print(tesla_cars_info)\n",
    "\n",
    "\n",
    "\n"
   ]
  },
  {
   "cell_type": "code",
   "execution_count": null,
   "metadata": {},
   "outputs": [],
   "source": [
    "# Get all the cars that have an electric range of more than 100, and were made after 2015\n",
    "electric_cars = df[(df['Electric Range'] > 100) & (df['Model Year'] > 2015)]\n",
    "electric_cars_info = electric_cars[['Model', 'Model Year', 'Electric Range']]\n",
    "print(\"\\nCars with an electric range of more than 100 and made after 2015:\")\n",
    "print(electric_cars_info)"
   ]
  },
  {
   "cell_type": "code",
   "execution_count": null,
   "metadata": {},
   "outputs": [],
   "source": [
    "# Draw plots to show the distribution between city and electric vehicle type\n",
    "city_ev_type_counts = df.groupby(['City', 'Electric Vehicle Type']).size().unstack(fill_value=0)\n",
    "city_ev_type_counts.plot(kind='bar', stacked=True)\n",
    "plt.xlabel('City')\n",
    "plt.ylabel('Count')\n",
    "plt.title('Distribution of Electric Vehicle Types by City')\n",
    "plt.show()"
   ]
  }
 ],
 "metadata": {
  "language_info": {
   "name": "python"
  },
  "orig_nbformat": 4
 },
 "nbformat": 4,
 "nbformat_minor": 2
}
