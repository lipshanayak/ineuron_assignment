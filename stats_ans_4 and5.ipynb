{
 "cells": [
  {
   "cell_type": "code",
   "execution_count": 1,
   "metadata": {},
   "outputs": [],
   "source": [
    "#Q-4. A group of 20 friends decide to play a game in which they each write a number\n",
    "# between 1 and 20 on a slip of paper and put it into a hat. They then draw one slip of paper\n",
    "# at random. What is the probability that the number on the slip of paper is a perfect square\n",
    "# (i.e., 1, 4, 9, or 16)? \n",
    "# ans:\n",
    "# favorable outcomes = 1, 4, 9, and 16, which are the perfect squares between 1 and 20.\n",
    "\n",
    "# total possible outcomes =20, as there are 20 slips of paper in the hat, each containing a number from 1 to 20.\n",
    "\n",
    "# Probability = (Number of favorable outcomes) / (Total number of possible outcomes)\n",
    "# = 4 / 20\n",
    "# = 1 / 5\n",
    "# = 0.2\n",
    "# = 20%"
   ]
  },
  {
   "cell_type": "code",
   "execution_count": null,
   "metadata": {},
   "outputs": [],
   "source": [
    "# Q-5. A certain city has two taxi companies: Company A has 80% of the taxis and\n",
    "# Company B has 20% of the taxis. Company A's taxis have a 95% success rate for picking\n",
    "# up passengers on time, while Company B's taxis have a 90% success rate. If a randomly\n",
    "# selected taxi is late, what is the probability that it belongs to Company A?\n",
    "# ans:\n",
    "A: Company A taxi\n",
    "B:Company B taxi\n",
    "L:taxi is late.\n",
    "We are given the following probabilities:\n",
    "\n",
    "P(A) = 0.8 (Probability of selecting a taxi from Company A)\n",
    "P(B) = 0.2 (Probability of selecting a taxi from Company B)\n",
    "P(L|A) = 0.05 (Probability that a taxi from Company A is late)\n",
    "P(L|B) = 0.1 (Probability that a taxi from Company B is late)\n",
    "We need to find P(A|L), which is the probability that the taxi is from Company A given that it is late.\n",
    "\n",
    "Using Bayes' theorem:\n",
    "P(L) = (0.05 * 0.8) + (0.1 * 0.2) = 0.04 + 0.02 = 0.06\n",
    "\n",
    "P(A|L) = (0.05 * 0.8) / 0.06 = 0.04 / 0.06 ≈ 0.667\n",
    "\n",
    "# Therefore, the probability that a randomly selected taxi is from Company A given that \n",
    "# it is late is approximately 0.667 or 66.7%."
   ]
  }
 ],
 "metadata": {
  "kernelspec": {
   "display_name": "Python 3",
   "language": "python",
   "name": "python3"
  },
  "language_info": {
   "codemirror_mode": {
    "name": "ipython",
    "version": 3
   },
   "file_extension": ".py",
   "mimetype": "text/x-python",
   "name": "python",
   "nbconvert_exporter": "python",
   "pygments_lexer": "ipython3",
   "version": "3.8.5"
  }
 },
 "nbformat": 4,
 "nbformat_minor": 4
}
