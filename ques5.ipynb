{
 "cells": [
  {
   "cell_type": "code",
   "execution_count": 18,
   "metadata": {},
   "outputs": [
    {
     "name": "stdout",
     "output_type": "stream",
     "text": [
      "<class 'dict'>\n",
      "id                               int64\n",
      "url                             object\n",
      "name                            object\n",
      "type                            object\n",
      "language                        object\n",
      "genres                          object\n",
      "status                          object\n",
      "runtime                          int64\n",
      "averageRuntime                   int64\n",
      "premiered                       object\n",
      "ended                           object\n",
      "officialSite                    object\n",
      "weight                           int64\n",
      "webChannel                      object\n",
      "dvdCountry                      object\n",
      "summary                         object\n",
      "updated                          int64\n",
      "schedule.time                   object\n",
      "schedule.days                   object\n",
      "rating.average                 float64\n",
      "network.id                       int64\n",
      "network.name                    object\n",
      "network.country.name            object\n",
      "network.country.code            object\n",
      "network.country.timezone        object\n",
      "network.officialSite            object\n",
      "externals.tvrage                 int64\n",
      "externals.thetvdb                int64\n",
      "externals.imdb                  object\n",
      "image.medium                    object\n",
      "image.original                  object\n",
      "_links.self.href                object\n",
      "_links.previousepisode.href     object\n",
      "_embedded.episodes              object\n",
      "dtype: object\n"
     ]
    }
   ],
   "source": [
    "import pandas as pd\n",
    "import requests\n",
    "import json\n",
    "url='http://api.tvmaze.com/singlesearch/shows?q=westworld&embed=episodes'\n",
    "response=requests.get(url)\n",
    "\n",
    "if response.status_code ==200:\n",
    "    data = response.json()\n",
    "    print(type(data))\n",
    "    df = pd.json_normalize(data)\n",
    "    print(df.dtypes)\n",
    "    \n",
    "\n",
    "\n"
   ]
  },
  {
   "cell_type": "code",
   "execution_count": null,
   "metadata": {},
   "outputs": [],
   "source": []
  }
 ],
 "metadata": {
  "kernelspec": {
   "display_name": "Python 3",
   "language": "python",
   "name": "python3"
  },
  "language_info": {
   "codemirror_mode": {
    "name": "ipython",
    "version": 3
   },
   "file_extension": ".py",
   "mimetype": "text/x-python",
   "name": "python",
   "nbconvert_exporter": "python",
   "pygments_lexer": "ipython3",
   "version": "3.8.5"
  }
 },
 "nbformat": 4,
 "nbformat_minor": 4
}
