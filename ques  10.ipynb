{
 "cells": [
  {
   "cell_type": "code",
   "execution_count": 1,
   "metadata": {},
   "outputs": [
    {
     "name": "stdout",
     "output_type": "stream",
     "text": [
      "{'verb': 9, 'noun': 9, 'pronoun': 0, 'adjective': 9}\n"
     ]
    }
   ],
   "source": [
    "import re\n",
    "\n",
    "def count_pos_tags(text):\n",
    "    # Define patterns for verbs, nouns, pronouns, and adjectives\n",
    "    verb_pattern = r'\\b\\w+(?:ed|ing|s)?\\b'  # Simple verb pattern\n",
    "    noun_pattern = r'\\b\\w+\\b'  # Simple noun pattern\n",
    "    pronoun_pattern = r'\\b(?:he|she|it|they|we|you|I|me|him|her|them|us)\\b'\n",
    "    adjective_pattern = r'\\b\\w+\\b'  # Simple adjective pattern\n",
    "\n",
    "    # Initialize counts\n",
    "    counts = {\n",
    "        'verb': 0,\n",
    "        'noun': 0,\n",
    "        'pronoun': 0,\n",
    "        'adjective': 0\n",
    "    }\n",
    "\n",
    "    # Count the number of each part of speech\n",
    "    counts['verb'] = len(re.findall(verb_pattern, text))\n",
    "    counts['noun'] = len(re.findall(noun_pattern, text))\n",
    "    counts['pronoun'] = len(re.findall(pronoun_pattern, text, re.IGNORECASE))\n",
    "    counts['adjective'] = len(re.findall(adjective_pattern, text))\n",
    "\n",
    "    return counts\n",
    "\n",
    "# Example usage\n",
    "phrase = \"The quick brown fox jumps over the lazy dog\"\n",
    "counts = count_pos_tags(phrase)\n",
    "print(counts)\n"
   ]
  },
  {
   "cell_type": "code",
   "execution_count": null,
   "metadata": {},
   "outputs": [],
   "source": []
  }
 ],
 "metadata": {
  "kernelspec": {
   "display_name": "Python 3",
   "language": "python",
   "name": "python3"
  },
  "language_info": {
   "codemirror_mode": {
    "name": "ipython",
    "version": 3
   },
   "file_extension": ".py",
   "mimetype": "text/x-python",
   "name": "python",
   "nbconvert_exporter": "python",
   "pygments_lexer": "ipython3",
   "version": "3.7.4"
  },
  "orig_nbformat": 4
 },
 "nbformat": 4,
 "nbformat_minor": 2
}
