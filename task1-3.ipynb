{
 "cells": [
  {
   "cell_type": "code",
   "execution_count": 37,
   "id": "9b19801d-fdda-4575-98eb-3311ad9c04c9",
   "metadata": {},
   "outputs": [
    {
     "name": "stdout",
     "output_type": "stream",
     "text": [
      "Length of the highest-frequency word: 5\n"
     ]
    }
   ],
   "source": [
    "def find_highest_frequency_word_length(string):\n",
    "    word_count = {} \n",
    "\n",
    "    words = string.split()\n",
    "\n",
    "    for word in words:\n",
    "        if word in word_count:\n",
    "            word_count[word] += 1\n",
    "        else:\n",
    "            word_count[word] = 1\n",
    "\n",
    "    highest_frequency = 0\n",
    "    highest_frequency_word = \"\"\n",
    "    for word, count in word_count.items():\n",
    "        if count > highest_frequency:\n",
    "            highest_frequency = count\n",
    "            highest_frequency_word = word\n",
    "\n",
    "    return len(highest_frequency_word)\n",
    "\n",
    "\n",
    "input_string = \"hello hello helllo hi my name\"\n",
    "result = find_highest_frequency_word_length(input_string)\n",
    "print(\"Length of the highest-frequency word:\", result)\n",
    "\n"
   ]
  },
  {
   "cell_type": "code",
   "execution_count": 26,
   "id": "46b45839-bb08-4814-9a9b-a222e1cb8b61",
   "metadata": {},
   "outputs": [],
   "source": [
    "def isValid(s):\n",
    "    char_count = {}\n",
    "    for char in s:\n",
    "        char_count[char] = char_count.get(char, 0) + 1\n",
    "    \n",
    "    freq_count = {}\n",
    "    for count in char_count.values():\n",
    "        freq_count[count] = freq_count.get(count, 0) + 1\n",
    "\n",
    "    \n",
    "    if len(freq_count) == 1:\n",
    "        return \"YES\"\n",
    "    \n",
    "    elif len(freq_count) == 2:\n",
    "        keys = list(freq_count.keys())\n",
    "        values = list(freq_count.values())\n",
    "        if (values[0] == 1 and keys[0] == 1) or (values[1] == 1 and keys[1] == 1) or (abs(keys[0] - keys[1]) == 1 and 1 in values):\n",
    "            return \"YES\"\n",
    "    return \"NO\"\n"
   ]
  },
  {
   "cell_type": "code",
   "execution_count": 27,
   "id": "818a6b35-78a3-4e48-a0c1-9481d74ac2e0",
   "metadata": {},
   "outputs": [
    {
     "name": "stdout",
     "output_type": "stream",
     "text": [
      "NO\n"
     ]
    }
   ],
   "source": [
    "result = isValid(\"abbbac\")\n",
    "print(result)"
   ]
  },
  {
   "cell_type": "code",
   "execution_count": null,
   "id": "5c373108-66fb-4343-b396-243f83ca6f1e",
   "metadata": {},
   "outputs": [],
   "source": [
    "####ANS 3\n",
    "import requests\n",
    "import pandas as pd\n",
    "\n",
    "def download_data(url):\n",
    "    response = requests.get(url)  # Send a GET request to the provided URL\n",
    "    data = response.json()  # Parse the response content as JSON\n",
    "    return data\n",
    "\n",
    "def process_data(data):\n",
    "    structured_data = []\n",
    "    for pokemon in data[\"pokemon\"]:\n",
    "        structured_pokemon = {\n",
    "            \"ID\": pokemon[\"id\"],\n",
    "            \"Number\": pokemon[\"num\"],\n",
    "            \"Name\": pokemon[\"name\"],\n",
    "            \"Image\": pokemon[\"img\"],\n",
    "            \"Type\": \", \".join(pokemon[\"type\"]),\n",
    "            \"Height\": pokemon[\"height\"],\n",
    "            \"Weight\": pokemon[\"weight\"],\n",
    "            \"Candy\": pokemon.get(\"candy\", \"\"),\n",
    "            \"Candy Count\": pokemon.get(\"candy_count\", 0),\n",
    "            \"Egg\": pokemon.get(\"egg\", \"\"),\n",
    "            \"Spawn Chance\": pokemon.get(\"spawn_chance\", 0),\n",
    "            \"Avg Spawns\": pokemon.get(\"avg_spawns\", 0),\n",
    "            \"Spawn Time\": pokemon.get(\"spawn_time\", \"\"),\n",
    "            # \"Multipliers\": \", \".join(map(str, pokemon.get(\"multipliers\", []))),\n",
    "            \"Weaknesses\": \", \".join(pokemon.get(\"weaknesses\", [])),\n",
    "            \"Next Evolution\": \", \".join([evo[\"name\"] for evo in pokemon.get(\"next_evolution\", [])]),\n",
    "            \"Previous Evolution\": \", \".join([evo[\"name\"] for evo in pokemon.get(\"prev_evolution\", [])])\n",
    "        }\n",
    "        structured_data.append(structured_pokemon)\n",
    "    return structured_data\n",
    "\n",
    "def convert_to_excel(data, output_filename):\n",
    "    df = pd.DataFrame(data)  # Create a DataFrame from the structured data\n",
    "    df.to_excel(output_filename, index=False)  # Save the DataFrame as an Excel file\n",
    "\n",
    "# Define the URL of the data to download\n",
    "url = \"https://raw.githubusercontent.com/Biuni/PokemonGO-Pokedex/master/pokedex.json\"\n",
    "\n",
    "# Download the data\n",
    "downloaded_data = download_data(url)\n",
    "\n",
    "# Process the data and extract relevant information\n",
    "structured_data = process_data(downloaded_data)\n",
    "\n",
    "# Convert the structured data to Excel format\n",
    "output_filename = \"pokemon_data.xlsx\"\n",
    "convert_to_excel(structured_data, output_filename)\n",
    "\n",
    "print(f\"Data has been downloaded, processed, and saved as '{output_filename}'.\")\n"
   ]
  },
  {
   "cell_type": "code",
   "execution_count": null,
   "id": "04552b55",
   "metadata": {},
   "outputs": [],
   "source": []
  }
 ],
 "metadata": {
  "kernelspec": {
   "display_name": "Python 3 (ipykernel)",
   "language": "python",
   "name": "python3"
  },
  "language_info": {
   "codemirror_mode": {
    "name": "ipython",
    "version": 3
   },
   "file_extension": ".py",
   "mimetype": "text/x-python",
   "name": "python",
   "nbconvert_exporter": "python",
   "pygments_lexer": "ipython3",
   "version": "3.10.6"
  }
 },
 "nbformat": 4,
 "nbformat_minor": 5
}
